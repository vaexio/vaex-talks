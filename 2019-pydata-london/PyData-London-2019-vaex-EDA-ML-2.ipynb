{
 "cells": [
  {
   "cell_type": "markdown",
   "metadata": {},
   "source": [
    "# `vaex` @ PyData London 2019\n",
    "## New York Taxi Dataset (2009-2015): Exploratory Data Analysis and Machine Learning example"
   ]
  },
  {
   "cell_type": "code",
   "execution_count": null,
   "metadata": {
    "ExecuteTime": {
     "end_time": "2019-07-12T22:11:06.529801Z",
     "start_time": "2019-07-12T22:11:05.183385Z"
    }
   },
   "outputs": [],
   "source": [
    "import vaex"
   ]
  },
  {
   "cell_type": "markdown",
   "metadata": {},
   "source": [
    "### Read in the data"
   ]
  },
  {
   "cell_type": "code",
   "execution_count": null,
   "metadata": {
    "ExecuteTime": {
     "end_time": "2019-07-12T22:11:08.366242Z",
     "start_time": "2019-07-12T22:11:08.338918Z"
    }
   },
   "outputs": [],
   "source": [
    "df = vaex.open('/data/yellow_taxi_2009_2015_f32.hdf5')"
   ]
  },
  {
   "cell_type": "markdown",
   "metadata": {},
   "source": [
    "### Re-define the test set"
   ]
  },
  {
   "cell_type": "code",
   "execution_count": null,
   "metadata": {
    "ExecuteTime": {
     "end_time": "2019-07-12T22:11:10.195367Z",
     "start_time": "2019-07-12T22:11:10.175766Z"
    }
   },
   "outputs": [],
   "source": [
    "# The test set\n",
    "df_test = df[1_026_944_937:]"
   ]
  },
  {
   "cell_type": "markdown",
   "metadata": {},
   "source": [
    "### Inspect the test set"
   ]
  },
  {
   "cell_type": "code",
   "execution_count": null,
   "metadata": {
    "ExecuteTime": {
     "end_time": "2019-07-12T22:11:13.112038Z",
     "start_time": "2019-07-12T22:11:13.075243Z"
    }
   },
   "outputs": [],
   "source": [
    "df_test.head(10)"
   ]
  },
  {
   "cell_type": "markdown",
   "metadata": {},
   "source": [
    "### Load the _state_ into the test DataFrame"
   ]
  },
  {
   "cell_type": "code",
   "execution_count": null,
   "metadata": {
    "ExecuteTime": {
     "end_time": "2019-07-12T22:11:23.873986Z",
     "start_time": "2019-07-12T22:11:22.358892Z"
    }
   },
   "outputs": [],
   "source": [
    "# This is where the magic happens\n",
    "df_test.state_load('./taxi_ml_state.json')\n",
    "# df_test.state_load('./copy-taxi_ml_state.json') # in case we mess up (which never happens)"
   ]
  },
  {
   "cell_type": "code",
   "execution_count": null,
   "metadata": {
    "ExecuteTime": {
     "end_time": "2019-07-12T22:11:30.084375Z",
     "start_time": "2019-07-12T22:11:25.432549Z"
    },
    "scrolled": false
   },
   "outputs": [],
   "source": [
    "# Lets see what happened\n",
    "df_test.head(21)"
   ]
  },
  {
   "cell_type": "code",
   "execution_count": null,
   "metadata": {
    "ExecuteTime": {
     "end_time": "2019-07-11T22:29:25.200907Z",
     "start_time": "2019-07-11T22:29:19.477960Z"
    }
   },
   "outputs": [],
   "source": [
    "# Check the performance\n",
    "from sklearn.metrics import mean_absolute_error, mean_squared_error\n",
    "\n",
    "mae_test_score = mean_absolute_error(df_test[:1_000_000].trip_duration_min.values, \n",
    "                                     df_test[:1_000_000].final_prediction.values)\n",
    "mse_test_score = mean_squared_error(df_test[:1_000_000].trip_duration_min.values, \n",
    "                                    df_test[:1_000_000].final_prediction.values)\n",
    "\n",
    "print('The mean absolute error is %2.3f' % mae_test_score)\n",
    "print('The mean squared score is %2.3f' % mse_test_score)"
   ]
  },
  {
   "cell_type": "code",
   "execution_count": null,
   "metadata": {
    "ExecuteTime": {
     "end_time": "2019-07-12T22:11:52.968659Z",
     "start_time": "2019-07-12T22:11:52.965924Z"
    }
   },
   "outputs": [],
   "source": [
    "df_test.column_count()"
   ]
  },
  {
   "cell_type": "code",
   "execution_count": null,
   "metadata": {
    "ExecuteTime": {
     "end_time": "2019-07-12T11:04:27.371162Z",
     "start_time": "2019-07-12T11:04:27.255735Z"
    }
   },
   "outputs": [],
   "source": [
    "df_test.final_prediction._graphviz()"
   ]
  },
  {
   "cell_type": "code",
   "execution_count": null,
   "metadata": {
    "ExecuteTime": {
     "end_time": "2019-07-12T11:02:40.290653Z",
     "start_time": "2019-07-12T11:02:40.255966Z"
    }
   },
   "outputs": [],
   "source": [
    "df_test.state_get()"
   ]
  },
  {
   "cell_type": "markdown",
   "metadata": {},
   "source": [
    "## Thank you for your attention!"
   ]
  }
 ],
 "metadata": {
  "kernelspec": {
   "display_name": "Python 3",
   "language": "python",
   "name": "python3"
  },
  "language_info": {
   "codemirror_mode": {
    "name": "ipython",
    "version": 3
   },
   "file_extension": ".py",
   "mimetype": "text/x-python",
   "name": "python",
   "nbconvert_exporter": "python",
   "pygments_lexer": "ipython3",
   "version": "3.7.3"
  }
 },
 "nbformat": 4,
 "nbformat_minor": 2
}
