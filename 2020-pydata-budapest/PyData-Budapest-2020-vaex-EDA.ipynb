{
 "cells": [
  {
   "cell_type": "markdown",
   "metadata": {},
   "source": [
    "# `vaex` @ PyData Budapest 2020\n",
    "\n",
    "## New York Taxi Dataset (2009-2015): Exploratory Data Analysis\n",
    "\n",
    "https://www1.nyc.gov/site/tlc/about/tlc-trip-record-data.page\n",
    "\n",
    "\n",
    "Running this notebooks requires `vaex==3.0.0`"
   ]
  },
  {
   "cell_type": "code",
   "execution_count": null,
   "metadata": {
    "ExecuteTime": {
     "end_time": "2020-06-09T13:51:52.735795Z",
     "start_time": "2020-06-09T13:51:51.284811Z"
    }
   },
   "outputs": [],
   "source": [
    "import vaex\n",
    "from vaex.ui.colormaps import cm_plusmin\n",
    "import warnings; warnings.simplefilter('ignore')\n",
    "\n",
    "import numpy as np\n",
    "\n",
    "import pylab as plt\n",
    "import seaborn as sns\n",
    "\n",
    "import pandas as pd\n",
    "pd.options.display.max_rows = 70"
   ]
  },
  {
   "cell_type": "markdown",
   "metadata": {},
   "source": [
    "### Main concepts behind `vaex`:\n",
    " - Memory mapping\n",
    " - Lazy evaluations\n",
    " - Expression system (\"virtual\" columns)\n",
    " - High-performance algorithms"
   ]
  },
  {
   "cell_type": "markdown",
   "metadata": {},
   "source": [
    "### Memory mapping"
   ]
  },
  {
   "cell_type": "code",
   "execution_count": null,
   "metadata": {
    "ExecuteTime": {
     "end_time": "2020-06-09T13:52:10.386423Z",
     "start_time": "2020-06-09T13:52:10.262818Z"
    }
   },
   "outputs": [],
   "source": [
    "!du -h /data/yellow*"
   ]
  },
  {
   "cell_type": "markdown",
   "metadata": {},
   "source": [
    "Get instant access to your data!"
   ]
  },
  {
   "cell_type": "code",
   "execution_count": null,
   "metadata": {
    "ExecuteTime": {
     "end_time": "2020-06-09T13:52:32.057205Z",
     "start_time": "2020-06-09T13:52:32.039520Z"
    }
   },
   "outputs": [],
   "source": [
    "df = vaex.open('/data/yellow_taxi_2009_2015_f32.hdf5')"
   ]
  },
  {
   "cell_type": "markdown",
   "metadata": {},
   "source": [
    "You can also stream it directly from S3:\n",
    "```\n",
    "df = vaex.open('s3://vaex/taxi/yellow_taxi_2015_f32s.hdf5?anon=true')\n",
    "```"
   ]
  },
  {
   "cell_type": "markdown",
   "metadata": {},
   "source": [
    "### Lazy evaluations\n",
    "\n",
    "Just get a quick preview whenever you want to \"peak\" at your data"
   ]
  },
  {
   "cell_type": "code",
   "execution_count": null,
   "metadata": {
    "ExecuteTime": {
     "end_time": "2020-06-09T13:52:53.494178Z",
     "start_time": "2020-06-09T13:52:53.472269Z"
    }
   },
   "outputs": [],
   "source": [
    "df"
   ]
  },
  {
   "cell_type": "markdown",
   "metadata": {},
   "source": [
    "### Expression system (\"virtual\" columns)\n",
    "\n",
    "We call a single \"column\" an \"expression\""
   ]
  },
  {
   "cell_type": "code",
   "execution_count": null,
   "metadata": {
    "ExecuteTime": {
     "end_time": "2020-06-09T13:52:58.721446Z",
     "start_time": "2020-06-09T13:52:58.709336Z"
    }
   },
   "outputs": [],
   "source": [
    "df.tip_amount"
   ]
  },
  {
   "cell_type": "markdown",
   "metadata": {
    "ExecuteTime": {
     "end_time": "2020-06-03T08:13:57.992614Z",
     "start_time": "2020-06-03T08:13:57.989452Z"
    }
   },
   "source": [
    "Defining new columns takes no memory"
   ]
  },
  {
   "cell_type": "code",
   "execution_count": null,
   "metadata": {
    "ExecuteTime": {
     "end_time": "2020-06-09T12:50:01.473231Z",
     "start_time": "2020-06-09T12:50:01.462968Z"
    }
   },
   "outputs": [],
   "source": [
    "df['tip_percentage'] = df.tip_amount / df.total_amount\n",
    "df.tip_amount"
   ]
  },
  {
   "cell_type": "markdown",
   "metadata": {},
   "source": [
    "Peeking at the data is instant"
   ]
  },
  {
   "cell_type": "code",
   "execution_count": null,
   "metadata": {
    "ExecuteTime": {
     "end_time": "2020-06-09T12:50:15.170976Z",
     "start_time": "2020-06-09T12:50:15.146555Z"
    }
   },
   "outputs": [],
   "source": [
    "df"
   ]
  },
  {
   "cell_type": "markdown",
   "metadata": {},
   "source": [
    "Vaex knows when to be lazy, and when to be eager:\n",
    " - If the output of an operation is a new column, vaex will be lazy\n",
    " - If the output of an operation is expected to be a new data strugture (single number, list etc..), vaex will be eager"
   ]
  },
  {
   "cell_type": "code",
   "execution_count": null,
   "metadata": {
    "ExecuteTime": {
     "end_time": "2020-06-09T12:50:38.097107Z",
     "start_time": "2020-06-09T12:50:36.422691Z"
    }
   },
   "outputs": [],
   "source": [
    "df.tip_percentage.mean()"
   ]
  },
  {
   "cell_type": "markdown",
   "metadata": {},
   "source": [
    "Filtering creates a shallow copy of the DataFrame. The data itself is not copied!"
   ]
  },
  {
   "cell_type": "code",
   "execution_count": null,
   "metadata": {
    "ExecuteTime": {
     "end_time": "2020-06-09T12:50:58.838438Z",
     "start_time": "2020-06-09T12:50:58.430142Z"
    }
   },
   "outputs": [],
   "source": [
    "df_filtered = df[df.total_amount>0]"
   ]
  },
  {
   "cell_type": "code",
   "execution_count": null,
   "metadata": {
    "ExecuteTime": {
     "end_time": "2020-06-09T12:51:03.926550Z",
     "start_time": "2020-06-09T12:51:01.402880Z"
    }
   },
   "outputs": [],
   "source": [
    "df_filtered.tip_percentage.mean()"
   ]
  },
  {
   "cell_type": "markdown",
   "metadata": {},
   "source": [
    "### High performance, efficient algorithms"
   ]
  },
  {
   "cell_type": "code",
   "execution_count": null,
   "metadata": {
    "ExecuteTime": {
     "end_time": "2020-06-09T12:51:19.375439Z",
     "start_time": "2020-06-09T12:51:19.372031Z"
    }
   },
   "outputs": [],
   "source": [
    "# Check length of file\n",
    "rows, columns = df.shape\n",
    "print(f'Number of rows: {rows:,}')\n",
    "print(f'Number of columns: {columns}')"
   ]
  },
  {
   "cell_type": "code",
   "execution_count": null,
   "metadata": {
    "ExecuteTime": {
     "end_time": "2020-06-09T12:52:00.551968Z",
     "start_time": "2020-06-09T12:51:21.483565Z"
    }
   },
   "outputs": [],
   "source": [
    "df.describe()"
   ]
  },
  {
   "cell_type": "markdown",
   "metadata": {},
   "source": [
    "## Application: Exploring and cleaning the New York Taxi dataset\n",
    "\n",
    "### Remove missing data"
   ]
  },
  {
   "cell_type": "code",
   "execution_count": null,
   "metadata": {
    "ExecuteTime": {
     "end_time": "2020-06-09T12:52:55.868347Z",
     "start_time": "2020-06-09T12:52:55.626389Z"
    }
   },
   "outputs": [],
   "source": [
    "# Drop NANs\n",
    "df = df.dropna(column_names=['dropoff_latitude', 'dropoff_longitude', 'pickup_latitude'])"
   ]
  },
  {
   "cell_type": "markdown",
   "metadata": {},
   "source": [
    "### Abnormal number of passengers"
   ]
  },
  {
   "cell_type": "code",
   "execution_count": null,
   "metadata": {
    "ExecuteTime": {
     "end_time": "2020-06-09T12:53:46.883297Z",
     "start_time": "2020-06-09T12:53:46.298352Z"
    }
   },
   "outputs": [],
   "source": [
    "df.passenger_count.value_counts(progress='widget')"
   ]
  },
  {
   "cell_type": "code",
   "execution_count": null,
   "metadata": {
    "ExecuteTime": {
     "end_time": "2020-06-09T12:53:53.959979Z",
     "start_time": "2020-06-09T12:53:53.635532Z"
    }
   },
   "outputs": [],
   "source": [
    "# Filter abnormal number of passengers\n",
    "df = df[(df.passenger_count>0) & (df.passenger_count<7)]"
   ]
  },
  {
   "cell_type": "markdown",
   "metadata": {},
   "source": [
    "### Clean up distance values"
   ]
  },
  {
   "cell_type": "code",
   "execution_count": null,
   "metadata": {
    "ExecuteTime": {
     "end_time": "2020-06-09T12:54:18.736809Z",
     "start_time": "2020-06-09T12:54:17.683664Z"
    }
   },
   "outputs": [],
   "source": [
    "plt.figure(figsize=(8,4))\n",
    "df.plot1d('trip_distance', limits='minmax', f='log1p', progress='widget')\n",
    "plt.show()"
   ]
  },
  {
   "cell_type": "code",
   "execution_count": null,
   "metadata": {
    "ExecuteTime": {
     "end_time": "2020-06-09T12:54:24.196276Z",
     "start_time": "2020-06-09T12:54:23.291052Z"
    }
   },
   "outputs": [],
   "source": [
    "# How many trips have 0.0 distance?\n",
    "(df.trip_distance==0).astype('int').sum()"
   ]
  },
  {
   "cell_type": "code",
   "execution_count": null,
   "metadata": {
    "ExecuteTime": {
     "end_time": "2020-06-09T12:54:32.073364Z",
     "start_time": "2020-06-09T12:54:31.614001Z"
    }
   },
   "outputs": [],
   "source": [
    "# What is the largest distance?\n",
    "_ = df.trip_distance.max(progress='widget')\n",
    "print()\n",
    "print(f'The maximum trip distance in the data is {_} miles')\n",
    "print()\n",
    "print('This is %3.1f times larger than the distance between the Earth and the Moon!' % (_ / 238_900))\n",
    "print('or')\n",
    "print('This is %1.1f times the distance to Mars!' % (_ / 33_900_000))"
   ]
  },
  {
   "cell_type": "code",
   "execution_count": null,
   "metadata": {
    "ExecuteTime": {
     "end_time": "2020-06-09T12:54:44.116154Z",
     "start_time": "2020-06-09T12:54:43.517082Z"
    }
   },
   "outputs": [],
   "source": [
    "plt.figure(figsize=(8,4))\n",
    "df.plot1d('trip_distance', limits=[0, 20], f=None, progress='widget')\n",
    "plt.show()"
   ]
  },
  {
   "cell_type": "code",
   "execution_count": null,
   "metadata": {
    "ExecuteTime": {
     "end_time": "2020-06-09T12:54:53.064964Z",
     "start_time": "2020-06-09T12:54:52.844622Z"
    }
   },
   "outputs": [],
   "source": [
    "# Filter negative and too large distances\n",
    "df = df[(df.trip_distance>0) & (df.trip_distance<10)]"
   ]
  },
  {
   "cell_type": "markdown",
   "metadata": {},
   "source": [
    "### What _is_ New York City really?"
   ]
  },
  {
   "cell_type": "code",
   "execution_count": null,
   "metadata": {
    "ExecuteTime": {
     "end_time": "2020-06-09T12:54:58.929226Z",
     "start_time": "2020-06-09T12:54:56.292579Z"
    }
   },
   "outputs": [],
   "source": [
    "# Interactively plot the pickup locations\n",
    "df.plot_widget(df.pickup_longitude, \n",
    "               df.pickup_latitude, \n",
    "               shape=512, \n",
    "               f='log1p', \n",
    "               colormap='plasma', \n",
    "               limits='minmax')"
   ]
  },
  {
   "cell_type": "code",
   "execution_count": null,
   "metadata": {
    "ExecuteTime": {
     "end_time": "2020-06-09T12:56:06.134505Z",
     "start_time": "2020-06-09T12:56:05.836470Z"
    }
   },
   "outputs": [],
   "source": [
    "# Define the NYC boundaries\n",
    "long_min = -74.05\n",
    "long_max = -73.75\n",
    "lat_min = 40.58\n",
    "lat_max = 40.90\n",
    "\n",
    "# Make a selection based on the boundaries\n",
    "df = df[(df.pickup_longitude > long_min)  & (df.pickup_longitude < long_max) & \\\n",
    "        (df.pickup_latitude > lat_min)    & (df.pickup_latitude < lat_max) & \\\n",
    "        (df.dropoff_longitude > long_min) & (df.dropoff_longitude < long_max) & \\\n",
    "        (df.dropoff_latitude > lat_min)   & (df.dropoff_latitude < lat_max)]"
   ]
  },
  {
   "cell_type": "markdown",
   "metadata": {},
   "source": [
    "### Create some date/time features"
   ]
  },
  {
   "cell_type": "code",
   "execution_count": null,
   "metadata": {
    "ExecuteTime": {
     "end_time": "2020-06-09T12:56:30.947603Z",
     "start_time": "2020-06-09T12:56:13.803629Z"
    }
   },
   "outputs": [],
   "source": [
    "# Daily activities\n",
    "df['pickup_hour'] = df.pickup_datetime.dt.hour\n",
    "df['pickup_day_of_week'] = df.pickup_datetime.dt.dayofweek\n",
    "df['pickup_is_weekend'] = (df.pickup_day_of_week>=5).astype('int')\n",
    "\n",
    "# Treat as a categorical feature\n",
    "df.categorize(column='pickup_hour', inplace=True)\n",
    "\n",
    "weekday_names_list = ['Mon', 'Tue', 'Wed', 'Thu', 'Fri', 'Sat', 'Sun']\n",
    "df.categorize(column='pickup_day_of_week', labels=weekday_names_list, inplace=True)\n",
    "df"
   ]
  },
  {
   "cell_type": "code",
   "execution_count": null,
   "metadata": {
    "ExecuteTime": {
     "end_time": "2020-06-09T12:56:46.674924Z",
     "start_time": "2020-06-09T12:56:42.920933Z"
    }
   },
   "outputs": [],
   "source": [
    "# Number of pick-ups per hour for a given day of the week\n",
    "df.plot('pickup_hour', 'pickup_day_of_week', colorbar=True, colormap=cm_plusmin, figsize=(15, 5))\n",
    "\n",
    "plt.xticks(np.arange(24), np.arange(24))\n",
    "plt.yticks(np.arange(7), weekday_names_list)\n",
    "plt.show()"
   ]
  },
  {
   "cell_type": "code",
   "execution_count": null,
   "metadata": {
    "ExecuteTime": {
     "end_time": "2020-06-08T11:45:59.474386Z",
     "start_time": "2020-06-08T11:45:53.562110Z"
    }
   },
   "outputs": [],
   "source": [
    "# Mean trip distance per hour for a given day of the week\n",
    "df.plot('pickup_hour', 'pickup_day_of_week', what='mean(trip_distance)', \n",
    "        colorbar=True, colormap=cm_plusmin, figsize=(15, 5))\n",
    "\n",
    "plt.xticks(np.arange(24), np.arange(24))\n",
    "plt.yticks(np.arange(7), weekday_names_list)\n",
    "plt.show()"
   ]
  },
  {
   "cell_type": "markdown",
   "metadata": {},
   "source": [
    "### Groupby examples"
   ]
  },
  {
   "cell_type": "code",
   "execution_count": null,
   "metadata": {
    "ExecuteTime": {
     "end_time": "2020-06-08T11:46:42.644463Z",
     "start_time": "2020-06-08T11:46:33.380707Z"
    }
   },
   "outputs": [],
   "source": [
    "df_per_hour = df.groupby(by=df.pickup_hour).agg({'tip_amount': 'mean',\n",
    "                                                 'tip_amount_weekend': vaex.agg.mean('tip_amount', \n",
    "                                                                                     selection='pickup_is_weekend==1')\n",
    "                                                })\n",
    "\n",
    "# Display the grouped DataFrame\n",
    "df_per_hour"
   ]
  },
  {
   "cell_type": "code",
   "execution_count": null,
   "metadata": {
    "ExecuteTime": {
     "end_time": "2020-06-08T11:47:13.514548Z",
     "start_time": "2020-06-08T11:47:13.181496Z"
    }
   },
   "outputs": [],
   "source": [
    "plt.figure(figsize=(14, 5))\n",
    "\n",
    "plt.subplot(121)\n",
    "sns.barplot(x=df_per_hour.pickup_hour.values, y=df_per_hour.tip_amount.values)\n",
    "plt.title('Mean tip amount')\n",
    "plt.xlabel('hour of day')\n",
    "plt.ylabel('mean tip amount')\n",
    "\n",
    "plt.subplot(122)\n",
    "sns.barplot(x=df_per_hour.pickup_hour.values, y=df_per_hour.tip_amount_weekend.values)\n",
    "plt.title('Mean tip amount (weekend only)')\n",
    "plt.xlabel('hour of day')\n",
    "# plt.ylabel('mean trip speed [miles per hour]')\n",
    "\n",
    "\n",
    "plt.tight_layout()\n",
    "plt.show()"
   ]
  },
  {
   "cell_type": "markdown",
   "metadata": {},
   "source": [
    "### Join"
   ]
  },
  {
   "cell_type": "code",
   "execution_count": null,
   "metadata": {
    "ExecuteTime": {
     "end_time": "2020-06-08T11:47:49.338093Z",
     "start_time": "2020-06-08T11:47:40.942480Z"
    }
   },
   "outputs": [],
   "source": [
    "df = df.join(df_per_hour, on='pickup_hour', rprefix=\"right_\")\n",
    "df"
   ]
  },
  {
   "cell_type": "markdown",
   "metadata": {},
   "source": [
    "### Expensive columns\n",
    "\n",
    "Let's see the performance of Vaex on a computationally expensive virtual columns."
   ]
  },
  {
   "cell_type": "code",
   "execution_count": null,
   "metadata": {
    "ExecuteTime": {
     "end_time": "2020-06-08T11:48:08.603657Z",
     "start_time": "2020-06-08T11:48:08.596508Z"
    }
   },
   "outputs": [],
   "source": [
    "def arc_distance(theta_1, phi_1, theta_2, phi_2):\n",
    "    temp = (np.sin((theta_2-theta_1)/2*np.pi/180)**2\n",
    "           + np.cos(theta_1*np.pi/180)*np.cos(theta_2*np.pi/180) * np.sin((phi_2-phi_1)/2*np.pi/180)**2)\n",
    "    distance = 2 * np.arctan2(np.sqrt(temp), np.sqrt(1-temp))\n",
    "    return distance * 3958.8\n",
    "\n",
    "# distance Budapest - Utrecht [miles]\n",
    "arc_distance(47.4813602, 18.9902182, 52.0842715, 5.0124523)"
   ]
  },
  {
   "cell_type": "markdown",
   "metadata": {
    "ExecuteTime": {
     "end_time": "2020-06-03T12:02:41.332378Z",
     "start_time": "2020-06-03T12:02:41.329591Z"
    }
   },
   "source": [
    "By default we are using numpy"
   ]
  },
  {
   "cell_type": "code",
   "execution_count": null,
   "metadata": {
    "ExecuteTime": {
     "end_time": "2020-06-08T11:48:39.389605Z",
     "start_time": "2020-06-08T11:48:39.381737Z"
    }
   },
   "outputs": [],
   "source": [
    "# Add the arc-distance in miles as a virtual column\n",
    "df['arc_distance_miles_numpy'] = arc_distance(df.pickup_longitude, df.pickup_latitude, \n",
    "                                              df.dropoff_longitude, df.dropoff_latitude)"
   ]
  },
  {
   "cell_type": "code",
   "execution_count": null,
   "metadata": {
    "ExecuteTime": {
     "end_time": "2020-06-08T11:48:54.227445Z",
     "start_time": "2020-06-08T11:48:45.406748Z"
    }
   },
   "outputs": [],
   "source": [
    "sum_numpy = df['arc_distance_miles_numpy'].sum(progress='widget')\n",
    "print(f'{sum_numpy:.5}')"
   ]
  },
  {
   "cell_type": "markdown",
   "metadata": {
    "ExecuteTime": {
     "end_time": "2020-06-03T12:03:09.567983Z",
     "start_time": "2020-06-03T12:03:09.565057Z"
    }
   },
   "source": [
    "We can accelerate this by using Just-In-Time compiling (JIT)"
   ]
  },
  {
   "cell_type": "code",
   "execution_count": null,
   "metadata": {
    "ExecuteTime": {
     "end_time": "2020-06-08T11:49:07.652734Z",
     "start_time": "2020-06-08T11:49:06.855352Z"
    }
   },
   "outputs": [],
   "source": [
    "df['arc_distance_miles_numba'] = df.arc_distance_miles_numpy.jit_numba()"
   ]
  },
  {
   "cell_type": "code",
   "execution_count": null,
   "metadata": {
    "ExecuteTime": {
     "end_time": "2020-06-08T11:49:12.098344Z",
     "start_time": "2020-06-08T11:49:10.416066Z"
    }
   },
   "outputs": [],
   "source": [
    "sum_numba = df.arc_distance_miles_numba.sum(progress='widget')\n",
    "print(f'{sum_numba:.5}')"
   ]
  },
  {
   "cell_type": "markdown",
   "metadata": {},
   "source": [
    "Acceleration via a Nvidia GPU is also possible! This example uses _Nvidia 2080 super_."
   ]
  },
  {
   "cell_type": "code",
   "execution_count": null,
   "metadata": {
    "ExecuteTime": {
     "end_time": "2020-06-08T11:49:21.345851Z",
     "start_time": "2020-06-08T11:49:20.833368Z"
    }
   },
   "outputs": [],
   "source": [
    "df['arc_distance_miles_cuda'] = df.arc_distance_miles_numpy.jit_cuda()"
   ]
  },
  {
   "cell_type": "code",
   "execution_count": null,
   "metadata": {
    "ExecuteTime": {
     "end_time": "2020-06-08T11:49:37.077739Z",
     "start_time": "2020-06-08T11:49:34.443367Z"
    }
   },
   "outputs": [],
   "source": [
    "sum_cuda = df.arc_distance_miles_cuda.sum(progress='widget')\n",
    "print(f'{sum_cuda:.5}')"
   ]
  },
  {
   "cell_type": "markdown",
   "metadata": {},
   "source": [
    "### For a fuller picture please check out [the tutorial on the documentation pages](https://docs.vaex.io/en/latest/tutorial.html)."
   ]
  }
 ],
 "metadata": {
  "kernelspec": {
   "display_name": "Python 3",
   "language": "python",
   "name": "python3"
  },
  "language_info": {
   "codemirror_mode": {
    "name": "ipython",
    "version": 3
   },
   "file_extension": ".py",
   "mimetype": "text/x-python",
   "name": "python",
   "nbconvert_exporter": "python",
   "pygments_lexer": "ipython3",
   "version": "3.7.6"
  }
 },
 "nbformat": 4,
 "nbformat_minor": 4
}
