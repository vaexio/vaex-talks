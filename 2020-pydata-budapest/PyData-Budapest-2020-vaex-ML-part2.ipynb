{
 "cells": [
  {
   "cell_type": "markdown",
   "metadata": {},
   "source": [
    "# `vaex` @ PyData Budapest 2020\n",
    "\n",
    "## Machine Learning Example - \"Deployment\"\n",
    "\n",
    "To find out more details check out\n",
    "[ML impossible: Train 1 billion samples in 5 minutes on your laptop using Vaex and Scikit-Learn](https://towardsdatascience.com/ml-impossible-train-a-1-billion-sample-model-in-20-minutes-with-vaex-and-scikit-learn-on-your-9e2968e6f385).\n",
    "\n",
    "Running this notebooks requires `vaex==3.0.0`"
   ]
  },
  {
   "cell_type": "code",
   "execution_count": null,
   "metadata": {
    "ExecuteTime": {
     "end_time": "2020-06-10T14:25:13.533244Z",
     "start_time": "2020-06-10T14:25:12.940160Z"
    }
   },
   "outputs": [],
   "source": [
    "import vaex\n",
    "\n",
    "import warnings; warnings.simplefilter('ignore')"
   ]
  },
  {
   "cell_type": "markdown",
   "metadata": {},
   "source": [
    "### Load the test data"
   ]
  },
  {
   "cell_type": "code",
   "execution_count": null,
   "metadata": {
    "ExecuteTime": {
     "end_time": "2020-06-10T14:25:19.380990Z",
     "start_time": "2020-06-10T14:25:19.327102Z"
    }
   },
   "outputs": [],
   "source": [
    "df = vaex.open('/data/taxi/yellow_taxi_2012.hdf5')\n",
    "\n",
    "# Train / test split (by date)\n",
    "df_train, df_test = df.ml.train_test_split(test_size=0.15)\n",
    "\n",
    "print(f'Number of samples in the training set: {len(df_train):,}')\n",
    "print(f'Number of samples in the test set:       {len(df_test):,}')\n",
    "\n",
    "# Check if the lengths of the datasets match\n",
    "assert len(df) == len(df_test) + len(df_train)"
   ]
  },
  {
   "cell_type": "markdown",
   "metadata": {},
   "source": [
    "### Inspect the test set"
   ]
  },
  {
   "cell_type": "code",
   "execution_count": null,
   "metadata": {
    "ExecuteTime": {
     "end_time": "2020-06-10T14:25:24.748382Z",
     "start_time": "2020-06-10T14:25:24.684241Z"
    }
   },
   "outputs": [],
   "source": [
    "df_test"
   ]
  },
  {
   "cell_type": "markdown",
   "metadata": {},
   "source": [
    "### Apply the state to the test DataFrame"
   ]
  },
  {
   "cell_type": "code",
   "execution_count": null,
   "metadata": {
    "ExecuteTime": {
     "end_time": "2020-06-10T14:25:40.294500Z",
     "start_time": "2020-06-10T14:25:39.788892Z"
    }
   },
   "outputs": [],
   "source": [
    "df_test.state_load('./taxi_ml_state.json')"
   ]
  },
  {
   "cell_type": "code",
   "execution_count": null,
   "metadata": {
    "ExecuteTime": {
     "end_time": "2020-06-10T14:25:41.771143Z",
     "start_time": "2020-06-10T14:25:41.115370Z"
    }
   },
   "outputs": [],
   "source": [
    "df_test"
   ]
  },
  {
   "cell_type": "code",
   "execution_count": null,
   "metadata": {
    "ExecuteTime": {
     "end_time": "2020-06-10T14:26:01.520329Z",
     "start_time": "2020-06-10T14:26:00.580749Z"
    }
   },
   "outputs": [],
   "source": [
    "df_test.predicted_duration_min.minmax(progress='widget')"
   ]
  },
  {
   "cell_type": "code",
   "execution_count": null,
   "metadata": {
    "ExecuteTime": {
     "end_time": "2020-06-10T14:26:08.335775Z",
     "start_time": "2020-06-10T14:26:06.307970Z"
    }
   },
   "outputs": [],
   "source": [
    "df_test.pred_final.minmax(progress='widget')"
   ]
  },
  {
   "cell_type": "markdown",
   "metadata": {
    "ExecuteTime": {
     "end_time": "2020-06-03T15:20:50.019022Z",
     "start_time": "2020-06-03T15:20:49.882430Z"
    }
   },
   "source": [
    "# Thank you!"
   ]
  }
 ],
 "metadata": {
  "kernelspec": {
   "display_name": "Python 3",
   "language": "python",
   "name": "python3"
  },
  "language_info": {
   "codemirror_mode": {
    "name": "ipython",
    "version": 3
   },
   "file_extension": ".py",
   "mimetype": "text/x-python",
   "name": "python",
   "nbconvert_exporter": "python",
   "pygments_lexer": "ipython3",
   "version": "3.7.6"
  }
 },
 "nbformat": 4,
 "nbformat_minor": 4
}
