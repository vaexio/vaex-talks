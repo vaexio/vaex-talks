{
 "cells": [
  {
   "cell_type": "markdown",
   "id": "a89e2c3b",
   "metadata": {},
   "source": [
    "# `vaex` @ Goto Copenhagen 2021\n",
    "\n",
    "## New York Taxi Dataset (2009-2015): Exploratory Data Analysis example\n",
    "\n",
    "Original (raw) data can be found at:\n",
    "https://www1.nyc.gov/site/tlc/about/tlc-trip-record-data.page"
   ]
  },
  {
   "cell_type": "code",
   "execution_count": 1,
   "id": "45fb3f82",
   "metadata": {
    "ExecuteTime": {
     "end_time": "2021-11-07T13:09:27.220171Z",
     "start_time": "2021-11-07T13:09:25.272110Z"
    }
   },
   "outputs": [],
   "source": [
    "import vaex\n",
    "from vaex.ui.colormaps import cm_plusmin\n",
    "\n",
    "import numpy as np\n",
    "\n",
    "import pylab as plt\n",
    "import seaborn as sns"
   ]
  },
  {
   "cell_type": "markdown",
   "id": "c5ca4343",
   "metadata": {},
   "source": [
    "## Concepts being `vaex`\n",
    " - memory mappable storage\n",
    " - expression system\n",
    " - delayed (a.k.a _lazy_) evaluations\n",
    " - efficient algorithms\n",
    " - emphasis on aggregate data properties instead of individual samples"
   ]
  },
  {
   "cell_type": "markdown",
   "id": "695721c2",
   "metadata": {},
   "source": [
    "### Memory mappable storage (read in the data)"
   ]
  },
  {
   "cell_type": "code",
   "execution_count": 2,
   "id": "e309aa99",
   "metadata": {
    "ExecuteTime": {
     "end_time": "2021-11-07T13:09:27.347797Z",
     "start_time": "2021-11-07T13:09:27.221612Z"
    }
   },
   "outputs": [
    {
     "name": "stdout",
     "output_type": "stream",
     "text": [
      "164G\t/data/yellow_taxi_2009_2015.hdf5\r\n",
      "108G\t/data/yellow_taxi_2009_2015_f32.hdf5\r\n",
      "12G\t/data/yellow_taxi_2015_f32.arrow\r\n",
      "12G\t/data/yellow_taxi_2015_f32.hdf5\r\n"
     ]
    }
   ],
   "source": [
    "# Check file size on disk\n",
    "!du -h /data/yellow_taxi_*"
   ]
  },
  {
   "cell_type": "code",
   "execution_count": 3,
   "id": "f170f9a8",
   "metadata": {
    "ExecuteTime": {
     "end_time": "2021-11-07T13:09:30.768887Z",
     "start_time": "2021-11-07T13:09:30.210195Z"
    }
   },
   "outputs": [],
   "source": [
    "# Opens the data in hdf5 format\n",
    "df = vaex.open('/data/yellow_taxi_2009_2015_f32.hdf5')"
   ]
  },
  {
   "cell_type": "code",
   "execution_count": 4,
   "id": "ff569cca",
   "metadata": {
    "ExecuteTime": {
     "end_time": "2021-11-07T13:01:19.153537Z",
     "start_time": "2021-11-07T13:01:19.150657Z"
    }
   },
   "outputs": [],
   "source": [
    "# df = vaex.open('/data/yellow_taxi_2009_2015_f32.hdf5')\n",
    "# df = df[(df.passenger_count>0) & (df.passenger_count<7)]\n",
    "# df = df[(df.trip_distance>0) & (df.trip_distance<10)]\n",
    "# df = df.dropna(column_names=['dropoff_latitude', 'dropoff_longitude', 'pickup_latitude'])\n",
    "\n",
    "# long_min = -74.05\n",
    "# long_max = -73.75\n",
    "# lat_min = 40.58\n",
    "# lat_max = 40.90\n",
    "\n",
    "# # Make a selection based on the boundaries\n",
    "# df = df[(df.pickup_longitude > long_min)  & (df.pickup_longitude < long_max) & \\\n",
    "#         (df.pickup_latitude > lat_min)    & (df.pickup_latitude < lat_max) & \\\n",
    "#         (df.dropoff_longitude > long_min) & (df.dropoff_longitude < long_max) & \\\n",
    "#         (df.dropoff_latitude > lat_min)   & (df.dropoff_latitude < lat_max)]\n",
    "\n",
    "\n",
    "# df['trip_speed_mph'] = df.trip_distance / ((df.dropoff_datetime - df.pickup_datetime) / np.timedelta64(1, 'h'))\n",
    "# df['trip_duration_min'] = (df.dropoff_datetime - df.pickup_datetime) / np.timedelta64(1, 'm')\n",
    "\n",
    "\n",
    "# # Slow\n",
    "# plt.figure(figsize=(8,4))\n",
    "# df.viz.histogram('trip_duration_min', f='log1p', progress='widget')\n",
    "# plt.show()"
   ]
  },
  {
   "cell_type": "code",
   "execution_count": 4,
   "id": "617b1b5f",
   "metadata": {
    "ExecuteTime": {
     "end_time": "2021-11-07T13:09:33.053244Z",
     "start_time": "2021-11-07T13:09:32.987445Z"
    }
   },
   "outputs": [
    {
     "data": {
      "text/html": [
       "<table>\n",
       "<thead>\n",
       "<tr><th>#                                        </th><th>vendor_id  </th><th>pickup_datetime              </th><th>dropoff_datetime             </th><th>passenger_count  </th><th>payment_type  </th><th>trip_distance  </th><th>pickup_longitude  </th><th>pickup_latitude  </th><th>rate_code  </th><th>store_and_fwd_flag  </th><th>dropoff_longitude  </th><th>dropoff_latitude  </th><th>fare_amount  </th><th>surcharge  </th><th>mta_tax  </th><th>tip_amount  </th><th>tolls_amount  </th><th>total_amount  </th></tr>\n",
       "</thead>\n",
       "<tbody>\n",
       "<tr><td><i style='opacity: 0.6'>0</i>            </td><td>VTS        </td><td>2009-01-04 02:52:00.000000000</td><td>2009-01-04 03:02:00.000000000</td><td>1                </td><td>CASH          </td><td>2.63           </td><td>-73.99196         </td><td>40.721565        </td><td>nan        </td><td>nan                 </td><td>-73.993805         </td><td>40.695923         </td><td>8.9          </td><td>0.5        </td><td>nan      </td><td>0.0         </td><td>0.0           </td><td>9.4           </td></tr>\n",
       "<tr><td><i style='opacity: 0.6'>1</i>            </td><td>VTS        </td><td>2009-01-04 03:31:00.000000000</td><td>2009-01-04 03:38:00.000000000</td><td>3                </td><td>Credit        </td><td>4.55           </td><td>-73.9821          </td><td>40.73629         </td><td>nan        </td><td>nan                 </td><td>-73.95585          </td><td>40.76803          </td><td>12.1         </td><td>0.5        </td><td>nan      </td><td>2.0         </td><td>0.0           </td><td>14.6          </td></tr>\n",
       "<tr><td><i style='opacity: 0.6'>2</i>            </td><td>VTS        </td><td>2009-01-03 15:43:00.000000000</td><td>2009-01-03 15:57:00.000000000</td><td>5                </td><td>Credit        </td><td>10.35          </td><td>-74.00259         </td><td>40.739746        </td><td>nan        </td><td>nan                 </td><td>-73.86998          </td><td>40.770226         </td><td>23.7         </td><td>0.0        </td><td>nan      </td><td>4.74        </td><td>0.0           </td><td>28.44         </td></tr>\n",
       "<tr><td><i style='opacity: 0.6'>3</i>            </td><td>DDS        </td><td>2009-01-01 20:52:58.000000000</td><td>2009-01-01 21:14:00.000000000</td><td>1                </td><td>CREDIT        </td><td>5.0            </td><td>-73.974266        </td><td>40.790955        </td><td>nan        </td><td>nan                 </td><td>-73.99656          </td><td>40.73185          </td><td>14.9         </td><td>0.5        </td><td>nan      </td><td>3.05        </td><td>0.0           </td><td>18.45         </td></tr>\n",
       "<tr><td><i style='opacity: 0.6'>4</i>            </td><td>DDS        </td><td>2009-01-24 16:18:23.000000000</td><td>2009-01-24 16:24:56.000000000</td><td>1                </td><td>CASH          </td><td>0.4            </td><td>-74.00158         </td><td>40.719383        </td><td>nan        </td><td>nan                 </td><td>-74.00838          </td><td>40.72035          </td><td>3.7          </td><td>0.0        </td><td>nan      </td><td>0.0         </td><td>0.0           </td><td>3.7           </td></tr>\n",
       "<tr><td>...                                      </td><td>...        </td><td>...                          </td><td>...                          </td><td>...              </td><td>...           </td><td>...            </td><td>...               </td><td>...              </td><td>...        </td><td>...                 </td><td>...                </td><td>...               </td><td>...          </td><td>...        </td><td>...      </td><td>...         </td><td>...           </td><td>...           </td></tr>\n",
       "<tr><td><i style='opacity: 0.6'>1,173,057,922</i></td><td>VTS        </td><td>2015-12-31 23:59:56.000000000</td><td>2016-01-01 00:08:18.000000000</td><td>5                </td><td>1             </td><td>1.2            </td><td>-73.99381         </td><td>40.72087         </td><td>1.0        </td><td>0.0                 </td><td>-73.98621          </td><td>40.72247          </td><td>7.5          </td><td>0.5        </td><td>0.5      </td><td>1.76        </td><td>0.0           </td><td>10.56         </td></tr>\n",
       "<tr><td><i style='opacity: 0.6'>1,173,057,923</i></td><td>CMT        </td><td>2015-12-31 23:59:58.000000000</td><td>2016-01-01 00:05:19.000000000</td><td>2                </td><td>2             </td><td>2.0            </td><td>-73.96527         </td><td>40.76028         </td><td>1.0        </td><td>0.0                 </td><td>-73.939514         </td><td>40.752388         </td><td>7.5          </td><td>0.5        </td><td>0.5      </td><td>0.0         </td><td>0.0           </td><td>8.8           </td></tr>\n",
       "<tr><td><i style='opacity: 0.6'>1,173,057,924</i></td><td>CMT        </td><td>2015-12-31 23:59:59.000000000</td><td>2016-01-01 00:12:55.000000000</td><td>2                </td><td>2             </td><td>3.8            </td><td>-73.9873          </td><td>40.73908         </td><td>1.0        </td><td>0.0                 </td><td>-73.98867          </td><td>40.6933           </td><td>13.5         </td><td>0.5        </td><td>0.5      </td><td>0.0         </td><td>0.0           </td><td>14.8          </td></tr>\n",
       "<tr><td><i style='opacity: 0.6'>1,173,057,925</i></td><td>VTS        </td><td>2015-12-31 23:59:59.000000000</td><td>2016-01-01 00:10:26.000000000</td><td>1                </td><td>2             </td><td>1.96           </td><td>-73.99756         </td><td>40.725693        </td><td>1.0        </td><td>0.0                 </td><td>-74.01712          </td><td>40.705322         </td><td>8.5          </td><td>0.5        </td><td>0.5      </td><td>0.0         </td><td>0.0           </td><td>9.8           </td></tr>\n",
       "<tr><td><i style='opacity: 0.6'>1,173,057,926</i></td><td>VTS        </td><td>2015-12-31 23:59:59.000000000</td><td>2016-01-01 00:21:30.000000000</td><td>1                </td><td>1             </td><td>1.06           </td><td>-73.9844          </td><td>40.767258        </td><td>1.0        </td><td>0.0                 </td><td>-73.99098          </td><td>40.76057          </td><td>13.5         </td><td>0.5        </td><td>0.5      </td><td>2.96        </td><td>0.0           </td><td>17.76         </td></tr>\n",
       "</tbody>\n",
       "</table>"
      ],
      "text/plain": [
       "#              vendor_id    pickup_datetime                dropoff_datetime               passenger_count    payment_type    trip_distance    pickup_longitude    pickup_latitude    rate_code    store_and_fwd_flag    dropoff_longitude    dropoff_latitude    fare_amount    surcharge    mta_tax    tip_amount    tolls_amount    total_amount\n",
       "0              VTS          2009-01-04 02:52:00.000000000  2009-01-04 03:02:00.000000000  1                  CASH            2.63             -73.99196           40.721565          nan          nan                   -73.993805           40.695923           8.9            0.5          nan        0.0           0.0             9.4\n",
       "1              VTS          2009-01-04 03:31:00.000000000  2009-01-04 03:38:00.000000000  3                  Credit          4.55             -73.9821            40.73629           nan          nan                   -73.95585            40.76803            12.1           0.5          nan        2.0           0.0             14.6\n",
       "2              VTS          2009-01-03 15:43:00.000000000  2009-01-03 15:57:00.000000000  5                  Credit          10.35            -74.00259           40.739746          nan          nan                   -73.86998            40.770226           23.7           0.0          nan        4.74          0.0             28.44\n",
       "3              DDS          2009-01-01 20:52:58.000000000  2009-01-01 21:14:00.000000000  1                  CREDIT          5.0              -73.974266          40.790955          nan          nan                   -73.99656            40.73185            14.9           0.5          nan        3.05          0.0             18.45\n",
       "4              DDS          2009-01-24 16:18:23.000000000  2009-01-24 16:24:56.000000000  1                  CASH            0.4              -74.00158           40.719383          nan          nan                   -74.00838            40.72035            3.7            0.0          nan        0.0           0.0             3.7\n",
       "...            ...          ...                            ...                            ...                ...             ...              ...                 ...                ...          ...                   ...                  ...                 ...            ...          ...        ...           ...             ...\n",
       "1,173,057,922  VTS          2015-12-31 23:59:56.000000000  2016-01-01 00:08:18.000000000  5                  1               1.2              -73.99381           40.72087           1.0          0.0                   -73.98621            40.72247            7.5            0.5          0.5        1.76          0.0             10.56\n",
       "1,173,057,923  CMT          2015-12-31 23:59:58.000000000  2016-01-01 00:05:19.000000000  2                  2               2.0              -73.96527           40.76028           1.0          0.0                   -73.939514           40.752388           7.5            0.5          0.5        0.0           0.0             8.8\n",
       "1,173,057,924  CMT          2015-12-31 23:59:59.000000000  2016-01-01 00:12:55.000000000  2                  2               3.8              -73.9873            40.73908           1.0          0.0                   -73.98867            40.6933             13.5           0.5          0.5        0.0           0.0             14.8\n",
       "1,173,057,925  VTS          2015-12-31 23:59:59.000000000  2016-01-01 00:10:26.000000000  1                  2               1.96             -73.99756           40.725693          1.0          0.0                   -74.01712            40.705322           8.5            0.5          0.5        0.0           0.0             9.8\n",
       "1,173,057,926  VTS          2015-12-31 23:59:59.000000000  2016-01-01 00:21:30.000000000  1                  1               1.06             -73.9844            40.767258          1.0          0.0                   -73.99098            40.76057            13.5           0.5          0.5        2.96          0.0             17.76"
      ]
     },
     "execution_count": 4,
     "metadata": {},
     "output_type": "execute_result"
    }
   ],
   "source": [
    "# Basic view of the contents\n",
    "df"
   ]
  },
  {
   "cell_type": "code",
   "execution_count": 5,
   "id": "63e9eafd",
   "metadata": {
    "ExecuteTime": {
     "end_time": "2021-11-07T13:09:34.735370Z",
     "start_time": "2021-11-07T13:09:34.729032Z"
    }
   },
   "outputs": [
    {
     "data": {
      "text/plain": [
       "vendor_id               large_string\n",
       "pickup_datetime       datetime64[ns]\n",
       "dropoff_datetime      datetime64[ns]\n",
       "passenger_count                int64\n",
       "payment_type            large_string\n",
       "trip_distance                float32\n",
       "pickup_longitude             float32\n",
       "pickup_latitude              float32\n",
       "rate_code                    float32\n",
       "store_and_fwd_flag           float32\n",
       "dropoff_longitude            float32\n",
       "dropoff_latitude             float32\n",
       "fare_amount                  float32\n",
       "surcharge                    float32\n",
       "mta_tax                      float32\n",
       "tip_amount                   float32\n",
       "tolls_amount                 float32\n",
       "total_amount                 float32\n",
       "dtype: object"
      ]
     },
     "execution_count": 5,
     "metadata": {},
     "output_type": "execute_result"
    }
   ],
   "source": [
    "# See the data types as usual\n",
    "df.dtypes"
   ]
  },
  {
   "cell_type": "code",
   "execution_count": 7,
   "id": "cfebdc45",
   "metadata": {
    "ExecuteTime": {
     "end_time": "2021-11-07T13:04:23.670863Z",
     "start_time": "2021-11-07T13:01:19.236630Z"
    }
   },
   "outputs": [
    {
     "name": "stdout",
     "output_type": "stream",
     "text": [
      "CPU times: user 9min 32s, sys: 2min 8s, total: 11min 41s\n",
      "Wall time: 3min 4s\n"
     ]
    },
    {
     "data": {
      "text/html": [
       "<div>\n",
       "<style scoped>\n",
       "    .dataframe tbody tr th:only-of-type {\n",
       "        vertical-align: middle;\n",
       "    }\n",
       "\n",
       "    .dataframe tbody tr th {\n",
       "        vertical-align: top;\n",
       "    }\n",
       "\n",
       "    .dataframe thead th {\n",
       "        text-align: right;\n",
       "    }\n",
       "</style>\n",
       "<table border=\"1\" class=\"dataframe\">\n",
       "  <thead>\n",
       "    <tr style=\"text-align: right;\">\n",
       "      <th></th>\n",
       "      <th>vendor_id</th>\n",
       "      <th>pickup_datetime</th>\n",
       "      <th>dropoff_datetime</th>\n",
       "      <th>passenger_count</th>\n",
       "      <th>payment_type</th>\n",
       "      <th>trip_distance</th>\n",
       "      <th>pickup_longitude</th>\n",
       "      <th>pickup_latitude</th>\n",
       "      <th>rate_code</th>\n",
       "      <th>store_and_fwd_flag</th>\n",
       "      <th>dropoff_longitude</th>\n",
       "      <th>dropoff_latitude</th>\n",
       "      <th>fare_amount</th>\n",
       "      <th>surcharge</th>\n",
       "      <th>mta_tax</th>\n",
       "      <th>tip_amount</th>\n",
       "      <th>tolls_amount</th>\n",
       "      <th>total_amount</th>\n",
       "    </tr>\n",
       "  </thead>\n",
       "  <tbody>\n",
       "    <tr>\n",
       "      <th>data_type</th>\n",
       "      <td>large_string</td>\n",
       "      <td>datetime64[ns]</td>\n",
       "      <td>datetime64[ns]</td>\n",
       "      <td>int64</td>\n",
       "      <td>large_string</td>\n",
       "      <td>float32</td>\n",
       "      <td>float32</td>\n",
       "      <td>float32</td>\n",
       "      <td>float32</td>\n",
       "      <td>float32</td>\n",
       "      <td>float32</td>\n",
       "      <td>float32</td>\n",
       "      <td>float32</td>\n",
       "      <td>float32</td>\n",
       "      <td>float32</td>\n",
       "      <td>float32</td>\n",
       "      <td>float32</td>\n",
       "      <td>float32</td>\n",
       "    </tr>\n",
       "    <tr>\n",
       "      <th>count</th>\n",
       "      <td>1173057927</td>\n",
       "      <td>1173057927</td>\n",
       "      <td>1173057927</td>\n",
       "      <td>1173057927</td>\n",
       "      <td>1173057927</td>\n",
       "      <td>1173057927</td>\n",
       "      <td>1173057927</td>\n",
       "      <td>1173057926</td>\n",
       "      <td>1002161871</td>\n",
       "      <td>638914438</td>\n",
       "      <td>1173043432</td>\n",
       "      <td>1173050240</td>\n",
       "      <td>1173057925</td>\n",
       "      <td>1173057925</td>\n",
       "      <td>1032017356</td>\n",
       "      <td>1173057925</td>\n",
       "      <td>1173057925</td>\n",
       "      <td>1173057925</td>\n",
       "    </tr>\n",
       "    <tr>\n",
       "      <th>NA</th>\n",
       "      <td>0</td>\n",
       "      <td>0</td>\n",
       "      <td>0</td>\n",
       "      <td>0</td>\n",
       "      <td>0</td>\n",
       "      <td>0</td>\n",
       "      <td>0</td>\n",
       "      <td>1</td>\n",
       "      <td>170896056</td>\n",
       "      <td>534143489</td>\n",
       "      <td>14495</td>\n",
       "      <td>7687</td>\n",
       "      <td>2</td>\n",
       "      <td>2</td>\n",
       "      <td>141040571</td>\n",
       "      <td>2</td>\n",
       "      <td>2</td>\n",
       "      <td>2</td>\n",
       "    </tr>\n",
       "    <tr>\n",
       "      <th>mean</th>\n",
       "      <td>--</td>\n",
       "      <td>1970-01-01T00:00:01.953533625</td>\n",
       "      <td>1970-01-01T00:00:14.506598422</td>\n",
       "      <td>1.6844313554517245</td>\n",
       "      <td>--</td>\n",
       "      <td>5.390923660999668</td>\n",
       "      <td>-72.53224844702984</td>\n",
       "      <td>39.93453139351881</td>\n",
       "      <td>1.035820754150404</td>\n",
       "      <td>0.017168377090266976</td>\n",
       "      <td>-72.53741806425093</td>\n",
       "      <td>39.936948723110376</td>\n",
       "      <td>11.217308155800941</td>\n",
       "      <td>0.3036385232379654</td>\n",
       "      <td>0.4963069205116384</td>\n",
       "      <td>1.1294571893027416</td>\n",
       "      <td>0.18678067517758215</td>\n",
       "      <td>13.314765814201301</td>\n",
       "    </tr>\n",
       "    <tr>\n",
       "      <th>std</th>\n",
       "      <td>--</td>\n",
       "      <td>62223927159358544.0</td>\n",
       "      <td>62226550677209944.0</td>\n",
       "      <td>1.330321</td>\n",
       "      <td>--</td>\n",
       "      <td>7756.520806</td>\n",
       "      <td>12.750525</td>\n",
       "      <td>9.516751</td>\n",
       "      <td>0.441996</td>\n",
       "      <td>0.129899</td>\n",
       "      <td>12.676822</td>\n",
       "      <td>9.504872</td>\n",
       "      <td>633.505037</td>\n",
       "      <td>0.395407</td>\n",
       "      <td>0.068399</td>\n",
       "      <td>132.842337</td>\n",
       "      <td>886.718093</td>\n",
       "      <td>1098.433815</td>\n",
       "    </tr>\n",
       "    <tr>\n",
       "      <th>min</th>\n",
       "      <td>--</td>\n",
       "      <td>2009-01-01T00:00:27.365015552</td>\n",
       "      <td>1899-12-31T23:59:43.370698752</td>\n",
       "      <td>0</td>\n",
       "      <td>--</td>\n",
       "      <td>-40840124.0</td>\n",
       "      <td>-3509.015137</td>\n",
       "      <td>-3579.139404</td>\n",
       "      <td>0.0</td>\n",
       "      <td>0.0</td>\n",
       "      <td>-3579.139404</td>\n",
       "      <td>-3579.139404</td>\n",
       "      <td>-21474808.0</td>\n",
       "      <td>-79.0</td>\n",
       "      <td>-3.0</td>\n",
       "      <td>-1677720.125</td>\n",
       "      <td>-21474836.0</td>\n",
       "      <td>-21474830.0</td>\n",
       "    </tr>\n",
       "    <tr>\n",
       "      <th>max</th>\n",
       "      <td>--</td>\n",
       "      <td>2016-01-01T00:00:49.632313344</td>\n",
       "      <td>2253-08-23T08:00:13.061652480</td>\n",
       "      <td>255</td>\n",
       "      <td>--</td>\n",
       "      <td>198623008.0</td>\n",
       "      <td>3570.224121</td>\n",
       "      <td>3577.135498</td>\n",
       "      <td>252.0</td>\n",
       "      <td>2.0</td>\n",
       "      <td>3460.426758</td>\n",
       "      <td>3577.13501</td>\n",
       "      <td>825998.625</td>\n",
       "      <td>999.98999</td>\n",
       "      <td>1311.219971</td>\n",
       "      <td>3950588.75</td>\n",
       "      <td>5510.069824</td>\n",
       "      <td>3950611.5</td>\n",
       "    </tr>\n",
       "  </tbody>\n",
       "</table>\n",
       "</div>"
      ],
      "text/plain": [
       "              vendor_id                pickup_datetime  \\\n",
       "data_type  large_string                 datetime64[ns]   \n",
       "count        1173057927                     1173057927   \n",
       "NA                    0                              0   \n",
       "mean                 --  1970-01-01T00:00:01.953533625   \n",
       "std                  --            62223927159358544.0   \n",
       "min                  --  2009-01-01T00:00:27.365015552   \n",
       "max                  --  2016-01-01T00:00:49.632313344   \n",
       "\n",
       "                        dropoff_datetime     passenger_count  payment_type  \\\n",
       "data_type                 datetime64[ns]               int64  large_string   \n",
       "count                         1173057927          1173057927    1173057927   \n",
       "NA                                     0                   0             0   \n",
       "mean       1970-01-01T00:00:14.506598422  1.6844313554517245            --   \n",
       "std                  62226550677209944.0            1.330321            --   \n",
       "min        1899-12-31T23:59:43.370698752                   0            --   \n",
       "max        2253-08-23T08:00:13.061652480                 255            --   \n",
       "\n",
       "               trip_distance    pickup_longitude    pickup_latitude  \\\n",
       "data_type            float32             float32            float32   \n",
       "count             1173057927          1173057927         1173057926   \n",
       "NA                         0                   0                  1   \n",
       "mean       5.390923660999668  -72.53224844702984  39.93453139351881   \n",
       "std              7756.520806           12.750525           9.516751   \n",
       "min              -40840124.0        -3509.015137       -3579.139404   \n",
       "max              198623008.0         3570.224121        3577.135498   \n",
       "\n",
       "                   rate_code    store_and_fwd_flag   dropoff_longitude  \\\n",
       "data_type            float32               float32             float32   \n",
       "count             1002161871             638914438          1173043432   \n",
       "NA                 170896056             534143489               14495   \n",
       "mean       1.035820754150404  0.017168377090266976  -72.53741806425093   \n",
       "std                 0.441996              0.129899           12.676822   \n",
       "min                      0.0                   0.0        -3579.139404   \n",
       "max                    252.0                   2.0         3460.426758   \n",
       "\n",
       "             dropoff_latitude         fare_amount           surcharge  \\\n",
       "data_type             float32             float32             float32   \n",
       "count              1173050240          1173057925          1173057925   \n",
       "NA                       7687                   2                   2   \n",
       "mean       39.936948723110376  11.217308155800941  0.3036385232379654   \n",
       "std                  9.504872          633.505037            0.395407   \n",
       "min              -3579.139404         -21474808.0               -79.0   \n",
       "max                3577.13501          825998.625           999.98999   \n",
       "\n",
       "                      mta_tax          tip_amount         tolls_amount  \\\n",
       "data_type             float32             float32              float32   \n",
       "count              1032017356          1173057925           1173057925   \n",
       "NA                  141040571                   2                    2   \n",
       "mean       0.4963069205116384  1.1294571893027416  0.18678067517758215   \n",
       "std                  0.068399          132.842337           886.718093   \n",
       "min                      -3.0        -1677720.125          -21474836.0   \n",
       "max               1311.219971          3950588.75          5510.069824   \n",
       "\n",
       "                 total_amount  \n",
       "data_type             float32  \n",
       "count              1173057925  \n",
       "NA                          2  \n",
       "mean       13.314765814201301  \n",
       "std               1098.433815  \n",
       "min               -21474830.0  \n",
       "max                 3950611.5  "
      ]
     },
     "execution_count": 7,
     "metadata": {},
     "output_type": "execute_result"
    }
   ],
   "source": [
    "%%time\n",
    "# FIXME\n",
    "# Basic statistics about the dataset\n",
    "df.describe()"
   ]
  },
  {
   "cell_type": "markdown",
   "id": "bc34f989",
   "metadata": {
    "ExecuteTime": {
     "end_time": "2021-11-06T19:07:32.599211Z",
     "start_time": "2021-11-06T19:07:32.592987Z"
    }
   },
   "source": [
    "### Abnormal number of passengers"
   ]
  },
  {
   "cell_type": "code",
   "execution_count": 6,
   "id": "6432be6b",
   "metadata": {
    "ExecuteTime": {
     "end_time": "2021-11-07T13:09:42.893020Z",
     "start_time": "2021-11-07T13:09:39.441562Z"
    }
   },
   "outputs": [
    {
     "data": {
      "application/vnd.jupyter.widget-view+json": {
       "model_id": "f887694d1b244768b361bf6b55686bff",
       "version_major": 2,
       "version_minor": 0
      },
      "text/plain": [
       "HBox(children=(FloatProgress(value=0.0, max=1.0), Label(value='In progress...')))"
      ]
     },
     "metadata": {},
     "output_type": "display_data"
    },
    {
     "data": {
      "text/plain": [
       "1      812321234\n",
       "2      172864560\n",
       "5       81923912\n",
       "3       51435890\n",
       "6       25614703\n",
       "         ...    \n",
       "53             1\n",
       "113            1\n",
       "13             1\n",
       "193            1\n",
       "225            1\n",
       "Length: 62, dtype: int64"
      ]
     },
     "execution_count": 6,
     "metadata": {},
     "output_type": "execute_result"
    }
   ],
   "source": [
    "df.passenger_count.value_counts(progress='widget')"
   ]
  },
  {
   "cell_type": "code",
   "execution_count": 7,
   "id": "c15fc58b",
   "metadata": {
    "ExecuteTime": {
     "end_time": "2021-11-07T13:09:44.481910Z",
     "start_time": "2021-11-07T13:09:43.990951Z"
    }
   },
   "outputs": [],
   "source": [
    "# Filter abnormal number of passengers\n",
    "df = df[(df.passenger_count>0) & (df.passenger_count<7)]"
   ]
  },
  {
   "cell_type": "markdown",
   "id": "5948961c",
   "metadata": {
    "ExecuteTime": {
     "end_time": "2021-11-06T20:04:40.125968Z",
     "start_time": "2021-11-06T20:04:40.123402Z"
    }
   },
   "source": [
    "### Cleaning up distance values"
   ]
  },
  {
   "cell_type": "code",
   "execution_count": 8,
   "id": "56705b6d",
   "metadata": {
    "ExecuteTime": {
     "end_time": "2021-11-07T13:09:49.165309Z",
     "start_time": "2021-11-07T13:09:46.549465Z"
    }
   },
   "outputs": [
    {
     "data": {
      "application/vnd.jupyter.widget-view+json": {
       "model_id": "310c745c0da0400cb1d6467f33c2077c",
       "version_major": 2,
       "version_minor": 0
      },
      "text/plain": [
       "HBox(children=(FloatProgress(value=0.0, max=1.0), Label(value='In progress...')))"
      ]
     },
     "metadata": {},
     "output_type": "display_data"
    },
    {
     "data": {
      "text/plain": [
       "1.0    27083666\n",
       "0.9    26588407\n",
       "0.8    26038355\n",
       "1.1    25716789\n",
       "1.2    24680775\n",
       "0.7    24235015\n",
       "1.3    23392894\n",
       "1.4    22216026\n",
       "0.6    21053491\n",
       "1.5    20994639\n",
       "1.6    19793518\n",
       "1.7    18508315\n",
       "1.8    17264557\n",
       "0.5    16533295\n",
       "1.9    16079268\n",
       "2.0    15375123\n",
       "2.1    13934161\n",
       "2.2    12950627\n",
       "2.3    12016676\n",
       "2.4    11192204\n",
       "0.4    11149483\n",
       "2.5    10438690\n",
       "2.6     9757307\n",
       "2.7     9123151\n",
       "2.8     8548141\n",
       "2.9     7964831\n",
       "0.0     7844587\n",
       "3.0     7614737\n",
       "3.1     6996349\n",
       "3.2     6571892\n",
       "3.3     6169651\n",
       "dtype: int64"
      ]
     },
     "execution_count": 8,
     "metadata": {},
     "output_type": "execute_result"
    }
   ],
   "source": [
    "df.trip_distance.value_counts(progress='widget').head(31)"
   ]
  },
  {
   "cell_type": "code",
   "execution_count": 9,
   "id": "6609d7df",
   "metadata": {
    "ExecuteTime": {
     "end_time": "2021-11-07T13:09:51.318575Z",
     "start_time": "2021-11-07T13:09:49.165970Z"
    }
   },
   "outputs": [
    {
     "data": {
      "application/vnd.jupyter.widget-view+json": {
       "model_id": "aac3082d5995408a903dada3d202a32c",
       "version_major": 2,
       "version_minor": 0
      },
      "text/plain": [
       "HBox(children=(FloatProgress(value=0.0, max=1.0), Label(value='In progress...')))"
      ]
     },
     "metadata": {},
     "output_type": "display_data"
    },
    {
     "data": {
      "image/png": "[encoded data removed]",
      "text/plain": [
       "<Figure size 576x288 with 1 Axes>"
      ]
     },
     "metadata": {
      "needs_background": "light"
     },
     "output_type": "display_data"
    }
   ],
   "source": [
    "# Make a histograms of the trip distnaces (miles)\n",
    "plt.figure(figsize=(8,4))\n",
    "df.viz.histogram('trip_distance', f='log1p', progress='widget')\n",
    "plt.show()"
   ]
  },
  {
   "cell_type": "code",
   "execution_count": 10,
   "id": "92c505eb",
   "metadata": {
    "ExecuteTime": {
     "end_time": "2021-11-07T13:09:52.226000Z",
     "start_time": "2021-11-07T13:09:51.319333Z"
    }
   },
   "outputs": [
    {
     "name": "stdout",
     "output_type": "stream",
     "text": [
      "198623000.0 miles.\n",
      "This is 831.4 times larger than the distance between the Earth and the Moon!\n",
      "or\n",
      "This is 5.9 the distance to Mars!\n"
     ]
    }
   ],
   "source": [
    "# What is the largest distance?\n",
    "_ = df.trip_distance.max()\n",
    "\n",
    "print(_, 'miles.')\n",
    "\n",
    "print('This is %3.1f times larger than the distance between the Earth and the Moon!' % (_ / 238_900))\n",
    "print('or')\n",
    "print('This is %1.1f the distance to Mars!' % (_ / 33_900_000))"
   ]
  },
  {
   "cell_type": "code",
   "execution_count": 11,
   "id": "3b8b2ff0",
   "metadata": {
    "ExecuteTime": {
     "end_time": "2021-11-07T13:09:54.384467Z",
     "start_time": "2021-11-07T13:09:53.362948Z"
    }
   },
   "outputs": [
    {
     "data": {
      "application/vnd.jupyter.widget-view+json": {
       "model_id": "03a1ae7268c04eb2a18ef6c404fea848",
       "version_major": 2,
       "version_minor": 0
      },
      "text/plain": [
       "HBox(children=(FloatProgress(value=0.0, max=1.0), Label(value='In progress...')))"
      ]
     },
     "metadata": {},
     "output_type": "display_data"
    },
    {
     "data": {
      "image/png": "[encoded data removed]",
      "text/plain": [
       "<Figure size 576x288 with 1 Axes>"
      ]
     },
     "metadata": {
      "needs_background": "light"
     },
     "output_type": "display_data"
    }
   ],
   "source": [
    "# Make another histogram of the trip distances, this time with a more sensible range\n",
    "plt.figure(figsize=(8,4))\n",
    "df.viz.histogram('trip_distance', limits=[0, 20], progress='widget')\n",
    "plt.show()"
   ]
  },
  {
   "cell_type": "code",
   "execution_count": 12,
   "id": "00132980",
   "metadata": {
    "ExecuteTime": {
     "end_time": "2021-11-07T13:10:14.116113Z",
     "start_time": "2021-11-07T13:10:13.895656Z"
    }
   },
   "outputs": [],
   "source": [
    "# Filter negative and too large distances\n",
    "df = df[(df.trip_distance>0) & (df.trip_distance<10)]"
   ]
  },
  {
   "cell_type": "markdown",
   "id": "14fc8d38",
   "metadata": {},
   "source": [
    "### Remove rows from key columns that have missing values"
   ]
  },
  {
   "cell_type": "code",
   "execution_count": 13,
   "id": "0f92ba55",
   "metadata": {
    "ExecuteTime": {
     "end_time": "2021-11-07T13:10:16.539965Z",
     "start_time": "2021-11-07T13:10:16.335396Z"
    }
   },
   "outputs": [],
   "source": [
    "# Drop NANs\n",
    "df = df.dropna(column_names=['dropoff_latitude', 'dropoff_longitude', 'pickup_latitude'])"
   ]
  },
  {
   "cell_type": "markdown",
   "id": "f29a48a2",
   "metadata": {},
   "source": [
    "### What _is_ New York City really?"
   ]
  },
  {
   "cell_type": "code",
   "execution_count": 16,
   "id": "2940f1f1",
   "metadata": {
    "ExecuteTime": {
     "end_time": "2021-11-07T13:04:57.758087Z",
     "start_time": "2021-11-07T13:04:57.756310Z"
    }
   },
   "outputs": [],
   "source": [
    "# # Interactively plot the pickup locations - helps to determine the extent of NYC covered by the taxi company\n",
    "# df.widget.heatmap(df.pickup_longitude, \n",
    "#                   df.pickup_latitude, \n",
    "#                   shape=512, \n",
    "#                   f='log10', \n",
    "#                   colormap='plasma')"
   ]
  },
  {
   "cell_type": "code",
   "execution_count": 14,
   "id": "73774884",
   "metadata": {
    "ExecuteTime": {
     "end_time": "2021-11-07T13:10:17.855813Z",
     "start_time": "2021-11-07T13:10:17.655419Z"
    }
   },
   "outputs": [],
   "source": [
    "# Define the NYC boundaries\n",
    "long_min = -74.05\n",
    "long_max = -73.75\n",
    "lat_min = 40.58\n",
    "lat_max = 40.90\n",
    "\n",
    "# Make a selection based on the boundaries\n",
    "df = df[(df.pickup_longitude > long_min)  & (df.pickup_longitude < long_max) & \\\n",
    "        (df.pickup_latitude > lat_min)    & (df.pickup_latitude < lat_max) & \\\n",
    "        (df.dropoff_longitude > long_min) & (df.dropoff_longitude < long_max) & \\\n",
    "        (df.dropoff_latitude > lat_min)   & (df.dropoff_latitude < lat_max)]"
   ]
  },
  {
   "cell_type": "markdown",
   "id": "49994930",
   "metadata": {},
   "source": [
    "### Create some features"
   ]
  },
  {
   "cell_type": "code",
   "execution_count": 15,
   "id": "5ab9703e",
   "metadata": {
    "ExecuteTime": {
     "end_time": "2021-11-07T13:10:21.138980Z",
     "start_time": "2021-11-07T13:10:20.424301Z"
    }
   },
   "outputs": [],
   "source": [
    "# Speed (miles per hour)\n",
    "df['trip_speed_mph'] = df.trip_distance / ((df.dropoff_datetime - df.pickup_datetime) / np.timedelta64(1, 'h'))\n",
    "\n",
    "# Time in transit (minutes)\n",
    "df['trip_duration_min'] = (df.dropoff_datetime - df.pickup_datetime) / np.timedelta64(1, 'm')\n",
    "\n",
    "# fare divided by distance\n",
    "df['fare_by_distance'] = (df.fare_amount / df.trip_distance).jit_numba()"
   ]
  },
  {
   "cell_type": "markdown",
   "id": "fb530400",
   "metadata": {
    "ExecuteTime": {
     "end_time": "2021-11-07T11:42:06.303698Z",
     "start_time": "2021-11-07T11:42:01.949094Z"
    }
   },
   "source": [
    "### Trip duration"
   ]
  },
  {
   "cell_type": "code",
   "execution_count": 16,
   "id": "416d54f3",
   "metadata": {
    "ExecuteTime": {
     "end_time": "2021-11-07T13:10:46.619039Z",
     "start_time": "2021-11-07T13:10:23.145235Z"
    }
   },
   "outputs": [
    {
     "data": {
      "application/vnd.jupyter.widget-view+json": {
       "model_id": "f59b687ccc8144ec896f405bfb3e2b5e",
       "version_major": 2,
       "version_minor": 0
      },
      "text/plain": [
       "HBox(children=(FloatProgress(value=0.0, max=1.0), Label(value='In progress...')))"
      ]
     },
     "metadata": {},
     "output_type": "display_data"
    },
    {
     "data": {
      "image/png": "[encoded data removed]",
      "text/plain": [
       "<Figure size 576x288 with 1 Axes>"
      ]
     },
     "metadata": {
      "needs_background": "light"
     },
     "output_type": "display_data"
    }
   ],
   "source": [
    "# Histogram of the drip durations (minutes)\n",
    "plt.figure(figsize=(8,4))\n",
    "df.viz.histogram('trip_duration_min', f='log1p', progress='widget')\n",
    "plt.show()"
   ]
  },
  {
   "cell_type": "code",
   "execution_count": 17,
   "id": "772f8ecd",
   "metadata": {
    "ExecuteTime": {
     "end_time": "2021-11-07T13:11:02.709836Z",
     "start_time": "2021-11-07T13:10:57.386295Z"
    }
   },
   "outputs": [
    {
     "data": {
      "application/vnd.jupyter.widget-view+json": {
       "model_id": "2f3fbea33f874b87834183e90c55e39c",
       "version_major": 2,
       "version_minor": 0
      },
      "text/plain": [
       "HBox(children=(FloatProgress(value=0.0, max=1.0), Label(value='In progress...')))"
      ]
     },
     "metadata": {},
     "output_type": "display_data"
    },
    {
     "data": {
      "image/png": "[encoded data removed]",
      "text/plain": [
       "<Figure size 576x288 with 1 Axes>"
      ]
     },
     "metadata": {
      "needs_background": "light"
     },
     "output_type": "display_data"
    }
   ],
   "source": [
    "# Histogram of the drip durations, now with more sensible ranges\n",
    "plt.figure(figsize=(8,4))\n",
    "df.viz.histogram('trip_duration_min', f='log1p', limits=[0, 1000], progress='widget')\n",
    "plt.show()"
   ]
  },
  {
   "cell_type": "code",
   "execution_count": 18,
   "id": "f701572f",
   "metadata": {
    "ExecuteTime": {
     "end_time": "2021-11-07T13:11:13.249378Z",
     "start_time": "2021-11-07T13:11:12.991515Z"
    }
   },
   "outputs": [],
   "source": [
    "# Filter, keep durations that are within 2 hours\n",
    "df = df[(df.trip_duration_min>5) & (df.trip_duration_min<120)]"
   ]
  },
  {
   "cell_type": "markdown",
   "id": "f688dc1d",
   "metadata": {},
   "source": [
    "### Trip speed"
   ]
  },
  {
   "cell_type": "code",
   "execution_count": 19,
   "id": "8a2b6c58",
   "metadata": {
    "ExecuteTime": {
     "end_time": "2021-11-07T13:11:29.331293Z",
     "start_time": "2021-11-07T13:11:14.476445Z"
    }
   },
   "outputs": [
    {
     "data": {
      "application/vnd.jupyter.widget-view+json": {
       "model_id": "4931a7ad8bba474ebef3e7fb13b004f9",
       "version_major": 2,
       "version_minor": 0
      },
      "text/plain": [
       "HBox(children=(FloatProgress(value=0.0, max=1.0), Label(value='In progress...')))"
      ]
     },
     "metadata": {},
     "output_type": "display_data"
    },
    {
     "data": {
      "image/png": "[encoded data removed]",
      "text/plain": [
       "<Figure size 576x288 with 1 Axes>"
      ]
     },
     "metadata": {
      "needs_background": "light"
     },
     "output_type": "display_data"
    }
   ],
   "source": [
    "# Histogram of the drip durations, now with more sensible ranges\n",
    "plt.figure(figsize=(8,4))\n",
    "df.viz.histogram('trip_speed_mph', f='log1p', progress='widget')\n",
    "plt.show()"
   ]
  },
  {
   "cell_type": "code",
   "execution_count": 20,
   "id": "836be03c",
   "metadata": {
    "ExecuteTime": {
     "end_time": "2021-11-07T13:11:29.562680Z",
     "start_time": "2021-11-07T13:11:29.332088Z"
    }
   },
   "outputs": [],
   "source": [
    "# Filter, keep trips with average speeds between 2 and 60 miles per hour\n",
    "df = df[(df.trip_speed_mph>=2) & (df.trip_speed_mph<=60)]"
   ]
  },
  {
   "cell_type": "markdown",
   "id": "66bee844",
   "metadata": {},
   "source": [
    "### Create some date/time features"
   ]
  },
  {
   "cell_type": "code",
   "execution_count": 21,
   "id": "f6bf6923",
   "metadata": {
    "ExecuteTime": {
     "end_time": "2021-11-07T13:11:40.778827Z",
     "start_time": "2021-11-07T13:11:40.770174Z"
    }
   },
   "outputs": [],
   "source": [
    "# Daily activities\n",
    "\n",
    "# Hour of day\n",
    "df['pu_hour'] = df.pickup_datetime.dt.hour\n",
    "\n",
    "# Day of week\n",
    "df['pu_day_of_week'] = df.pickup_datetime.dt.dayofweek\n",
    "\n",
    "# Month of yeah (January is encoded as 0)\n",
    "df['pu_month'] = df.pickup_datetime.dt.month - 1\n",
    "\n",
    "# Whether a day is weekend\n",
    "df['pu_is_weekend'] = (df.pu_day_of_week>=5).astype('int')\n",
    "\n",
    "# lists to help with the labeling\n",
    "weekday_names_list = ['Mon', 'Tue', 'Wed', 'Thu', 'Fri', 'Sat', 'Sun']\n",
    "month_names_list = ['Jan', 'Feb', 'Mar', 'Apr', 'May', 'Jun', 'July', 'Aug', 'Sep', 'Oct', 'Nov', 'Dec']"
   ]
  },
  {
   "cell_type": "code",
   "execution_count": 22,
   "id": "d1a9ebf5",
   "metadata": {
    "ExecuteTime": {
     "end_time": "2021-11-07T13:12:08.147358Z",
     "start_time": "2021-11-07T13:11:43.729627Z"
    }
   },
   "outputs": [
    {
     "name": "stderr",
     "output_type": "stream",
     "text": [
      "/home/jovan/vaex/packages/vaex-core/vaex/arrow/numpy_dispatch.py:72: RuntimeWarning: divide by zero encountered in true_divide\n",
      "  result_data = op['op'](a_data, b_data)\n",
      "/home/jovan/vaex/packages/vaex-core/vaex/arrow/numpy_dispatch.py:72: RuntimeWarning: invalid value encountered in true_divide\n",
      "  result_data = op['op'](a_data, b_data)\n"
     ]
    }
   ],
   "source": [
    "# Treat these columns as ordinal encoded values\n",
    "df = df.categorize(column='pu_hour')\n",
    "df = df.categorize(column='pu_month')\n",
    "df = df.categorize(column='pu_day_of_week')"
   ]
  },
  {
   "cell_type": "code",
   "execution_count": 23,
   "id": "adba91a6",
   "metadata": {
    "ExecuteTime": {
     "end_time": "2021-11-07T13:12:14.985604Z",
     "start_time": "2021-11-07T13:12:08.148531Z"
    }
   },
   "outputs": [
    {
     "data": {
      "image/png": "[encoded data removed]",
      "text/plain": [
       "<Figure size 1080x360 with 2 Axes>"
      ]
     },
     "metadata": {
      "needs_background": "light"
     },
     "output_type": "display_data"
    }
   ],
   "source": [
    "# Number of pick-ups per hour for a given day of the week\n",
    "df.viz.heatmap('pu_hour', 'pu_day_of_week', colorbar=True, colormap=cm_plusmin, figsize=(15, 5))\n",
    "plt.xticks(np.arange(24), np.arange(24))\n",
    "plt.yticks(np.arange(7), weekday_names_list)\n",
    "plt.show()"
   ]
  },
  {
   "cell_type": "markdown",
   "id": "a3f4a789",
   "metadata": {},
   "source": [
    "### Groupby - simple example"
   ]
  },
  {
   "cell_type": "code",
   "execution_count": 24,
   "id": "59f43c85",
   "metadata": {
    "ExecuteTime": {
     "end_time": "2021-11-07T13:12:35.172647Z",
     "start_time": "2021-11-07T13:12:18.778415Z"
    }
   },
   "outputs": [
    {
     "data": {
      "text/html": [
       "<table>\n",
       "<thead>\n",
       "<tr><th>#                             </th><th>pu_hour  </th><th>tip_amount        </th><th>trip_speed_mph    </th></tr>\n",
       "</thead>\n",
       "<tbody>\n",
       "<tr><td><i style='opacity: 0.6'>0</i> </td><td>0        </td><td>1.193070567441511 </td><td>14.720083152911988</td></tr>\n",
       "<tr><td><i style='opacity: 0.6'>1</i> </td><td>1        </td><td>1.1786527042648098</td><td>15.626304631608944</td></tr>\n",
       "<tr><td><i style='opacity: 0.6'>2</i> </td><td>2        </td><td>1.1678830096874422</td><td>16.36464348846974 </td></tr>\n",
       "<tr><td><i style='opacity: 0.6'>3</i> </td><td>3        </td><td>1.1417288202863118</td><td>17.03645864978392 </td></tr>\n",
       "<tr><td><i style='opacity: 0.6'>4</i> </td><td>4        </td><td>1.0751638662851848</td><td>18.550483340096488</td></tr>\n",
       "<tr><td>...                           </td><td>...      </td><td>...               </td><td>...               </td></tr>\n",
       "<tr><td><i style='opacity: 0.6'>19</i></td><td>19       </td><td>1.1614882064392154</td><td>11.228730032961629</td></tr>\n",
       "<tr><td><i style='opacity: 0.6'>20</i></td><td>20       </td><td>1.1482312273887891</td><td>12.390238058368151</td></tr>\n",
       "<tr><td><i style='opacity: 0.6'>21</i></td><td>21       </td><td>1.1838469236743534</td><td>13.148406125079537</td></tr>\n",
       "<tr><td><i style='opacity: 0.6'>22</i></td><td>22       </td><td>1.1999837694429583</td><td>13.536938380858706</td></tr>\n",
       "<tr><td><i style='opacity: 0.6'>23</i></td><td>23       </td><td>1.209598571779457 </td><td>14.053067826638365</td></tr>\n",
       "</tbody>\n",
       "</table>"
      ],
      "text/plain": [
       "#    pu_hour    tip_amount          trip_speed_mph\n",
       "0    0          1.193070567441511   14.720083152911988\n",
       "1    1          1.1786527042648098  15.626304631608944\n",
       "2    2          1.1678830096874422  16.36464348846974\n",
       "3    3          1.1417288202863118  17.03645864978392\n",
       "4    4          1.0751638662851848  18.550483340096488\n",
       "...  ...        ...                 ...\n",
       "19   19         1.1614882064392154  11.228730032961629\n",
       "20   20         1.1482312273887891  12.390238058368151\n",
       "21   21         1.1838469236743534  13.148406125079537\n",
       "22   22         1.1999837694429583  13.536938380858706\n",
       "23   23         1.209598571779457   14.053067826638365"
      ]
     },
     "execution_count": 24,
     "metadata": {},
     "output_type": "execute_result"
    }
   ],
   "source": [
    "df_per_hour = df.groupby(by=df.pu_hour).agg({'tip_amount': 'mean', \n",
    "                                             'trip_speed_mph': 'mean'\n",
    "                                            })\n",
    "\n",
    "# Display the grouped DataFrame\n",
    "df_per_hour"
   ]
  },
  {
   "cell_type": "code",
   "execution_count": 25,
   "id": "39fdfc63",
   "metadata": {
    "ExecuteTime": {
     "end_time": "2021-11-07T13:12:45.185319Z",
     "start_time": "2021-11-07T13:12:44.879071Z"
    }
   },
   "outputs": [
    {
     "data": {
      "image/png": "[encoded data removed]",
      "text/plain": [
       "<Figure size 1008x360 with 2 Axes>"
      ]
     },
     "metadata": {
      "needs_background": "light"
     },
     "output_type": "display_data"
    }
   ],
   "source": [
    "plt.figure(figsize=(14, 5))\n",
    "fontsize = 16\n",
    "\n",
    "plt.subplot(121)\n",
    "sns.barplot(x=df_per_hour.pu_hour.to_numpy(), y=df_per_hour.tip_amount.to_numpy())\n",
    "plt.title('Mean tip amount', fontsize=fontsize)\n",
    "plt.xlabel('hour of day', fontsize=fontsize)\n",
    "plt.ylabel('mean tip amount', fontsize=fontsize)\n",
    "\n",
    "plt.subplot(122)\n",
    "sns.barplot(x=df_per_hour.pu_hour.to_numpy(), y=df_per_hour.trip_speed_mph.to_numpy())\n",
    "plt.title('Mean trip speed', fontsize=fontsize)\n",
    "plt.xlabel('hour of day', fontsize=fontsize)\n",
    "plt.ylabel('mean trip speed [miles per hour]', fontsize=fontsize)\n",
    "\n",
    "\n",
    "plt.tight_layout()\n",
    "plt.show()"
   ]
  },
  {
   "cell_type": "markdown",
   "id": "05e2e438",
   "metadata": {},
   "source": [
    "### Groupby - harder example"
   ]
  },
  {
   "cell_type": "code",
   "execution_count": 26,
   "id": "d374f41f",
   "metadata": {
    "ExecuteTime": {
     "end_time": "2021-11-07T13:13:33.025014Z",
     "start_time": "2021-11-07T13:12:47.808647Z"
    }
   },
   "outputs": [
    {
     "data": {
      "application/vnd.jupyter.widget-view+json": {
       "model_id": "54a9f5d4b3634dbab17ab22406b430cd",
       "version_major": 2,
       "version_minor": 0
      },
      "text/plain": [
       "HBox(children=(FloatProgress(value=0.0, max=1.0), Label(value='In progress...')))"
      ]
     },
     "metadata": {},
     "output_type": "display_data"
    },
    {
     "data": {
      "text/plain": [
       "CRD          293172221\n",
       "CSH          275913563\n",
       "1             72921194\n",
       "CASH          49592659\n",
       "Cash          41375995\n",
       "2             40263081\n",
       "Credit        33648286\n",
       "CAS           21615136\n",
       "Cre           21473904\n",
       "Cas           19042306\n",
       "CRE            2715062\n",
       "CREDIT         1948701\n",
       "UNK             799928\n",
       "NOC             495217\n",
       "No Charge       259049\n",
       "3               217939\n",
       "DIS             175117\n",
       "No               93044\n",
       "4                86778\n",
       "Dispute          48059\n",
       "Dis              19338\n",
       "NA               18956\n",
       "5                   11\n",
       "dtype: int64"
      ]
     },
     "execution_count": 26,
     "metadata": {},
     "output_type": "execute_result"
    }
   ],
   "source": [
    "# Inspect the payment type\n",
    "df.payment_type.value_counts(progress='widget')"
   ]
  },
  {
   "cell_type": "markdown",
   "id": "77aa8caa",
   "metadata": {
    "ExecuteTime": {
     "end_time": "2021-11-07T12:34:14.774228Z",
     "start_time": "2021-11-07T12:34:14.770740Z"
    }
   },
   "source": [
    "From the documentation provided:\n",
    "- 1 = Credit card\n",
    "- 2 = Cash\n",
    "- 3 = No charge\n",
    "- 4 = Dispute\n",
    "- 5 = Unknown\n",
    "- 6 = Voided trip"
   ]
  },
  {
   "cell_type": "code",
   "execution_count": 27,
   "id": "f572b27d",
   "metadata": {
    "ExecuteTime": {
     "end_time": "2021-11-07T13:14:28.566493Z",
     "start_time": "2021-11-07T13:13:42.187565Z"
    }
   },
   "outputs": [],
   "source": [
    "# Define a mapping dictionary\n",
    "map_payment_type = {'crd': 1, 'credit': 1, 'cre': 1,\n",
    "                    'csh': 2, 'cash': 2, 'cas': 2,\n",
    "                    'no ': 3, 'noc': 3, 'no charge': 3, \n",
    "                    'dis': 4, 'dispute': 4, \n",
    "                    'unk': 5, 'na ': 5,\n",
    "                    '1': 1, '2': 2, '3': 3, '4': 4, '5': 5, '6': 6}\n",
    "\n",
    "\n",
    "df['payment_type_clean'] = df.payment_type.str.lower().map(map_payment_type, \n",
    "                                                           default_value=-1, \n",
    "                                                           allow_missing=True)"
   ]
  },
  {
   "cell_type": "code",
   "execution_count": 29,
   "id": "7e888fd3",
   "metadata": {
    "ExecuteTime": {
     "end_time": "2021-11-07T13:16:16.242475Z",
     "start_time": "2021-11-07T13:15:48.278480Z"
    }
   },
   "outputs": [
    {
     "data": {
      "application/vnd.jupyter.widget-view+json": {
       "model_id": "52d555a481424a169dfe16d4079e4527",
       "version_major": 2,
       "version_minor": 0
      },
      "text/plain": [
       "HBox(children=(FloatProgress(value=0.0, max=1.0), Label(value='In progress...')))"
      ]
     },
     "metadata": {},
     "output_type": "display_data"
    },
    {
     "data": {
      "text/plain": [
       "2    447802740\n",
       "1    425879368\n",
       "3      1065249\n",
       "5       818895\n",
       "4       329292\n",
       "dtype: int64"
      ]
     },
     "execution_count": 29,
     "metadata": {},
     "output_type": "execute_result"
    }
   ],
   "source": [
    "df.payment_type_clean.value_counts(progress='widget')"
   ]
  },
  {
   "cell_type": "code",
   "execution_count": 32,
   "id": "6b63da5d",
   "metadata": {
    "ExecuteTime": {
     "end_time": "2021-11-07T13:19:13.238290Z",
     "start_time": "2021-11-07T13:19:13.235413Z"
    }
   },
   "outputs": [
    {
     "data": {
      "text/plain": [
       "875895544"
      ]
     },
     "execution_count": 32,
     "metadata": {},
     "output_type": "execute_result"
    }
   ],
   "source": [
    "    "
   ]
  }
 ],
 "metadata": {
  "kernelspec": {
   "display_name": "Python 3 (ipykernel)",
   "language": "python",
   "name": "python3"
  },
  "language_info": {
   "codemirror_mode": {
    "name": "ipython",
    "version": 3
   },
   "file_extension": ".py",
   "mimetype": "text/x-python",
   "name": "python",
   "nbconvert_exporter": "python",
   "pygments_lexer": "ipython3",
   "version": "3.8.5"
  }
 },
 "nbformat": 4,
 "nbformat_minor": 5
}
